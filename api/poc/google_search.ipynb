{
 "cells": [
  {
   "cell_type": "code",
   "execution_count": null,
   "metadata": {},
   "outputs": [],
   "source": [
    "import tempfile\n",
    "from googlesearch import search\n",
    "from pypdf import PdfReader\n",
    "\n",
    "import httpx\n",
    "\n",
    "query = \"large language model anthropic filetype:pdf\"\n",
    " \n",
    "for j in search(query, num=10, stop=10, pause=2):\n",
    "    response = httpx.get(j, follow_redirects=True)\n",
    "    print(response)\n",
    "    temp_pdf = tempfile.TemporaryFile()\n",
    "\n",
    "    temp_pdf.write(response.content)\n",
    "\n",
    "    temp_pdf.seek(0)\n",
    "    reader = PdfReader(temp_pdf)\n",
    "\n",
    "    for page_index in range(0, len(reader.pages)):\n",
    "        print(f\"PAGE {page_index}\")\n",
    "        print(reader.pages[page_index].extract_text())\n",
    "        break\n",
    "\n",
    "    temp_pdf.close()\n"
   ]
  }
 ],
 "metadata": {
  "kernelspec": {
   "display_name": ".venv",
   "language": "python",
   "name": "python3"
  },
  "language_info": {
   "codemirror_mode": {
    "name": "ipython",
    "version": 3
   },
   "file_extension": ".py",
   "mimetype": "text/x-python",
   "name": "python",
   "nbconvert_exporter": "python",
   "pygments_lexer": "ipython3",
   "version": "3.11.0"
  }
 },
 "nbformat": 4,
 "nbformat_minor": 2
}
